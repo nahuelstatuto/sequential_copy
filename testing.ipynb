{
 "cells": [
  {
   "cell_type": "code",
   "execution_count": 1,
   "id": "54d2d3f5",
   "metadata": {},
   "outputs": [
    {
     "name": "stderr",
     "output_type": "stream",
     "text": [
      "/home/nahuel.statuto/.conda/envs/hw_tf2.8/lib/python3.10/site-packages/scipy/__init__.py:146: UserWarning: A NumPy version >=1.16.5 and <1.23.0 is required for this version of SciPy (detected version 1.23.1\n",
      "  warnings.warn(f\"A NumPy version >={np_minversion} and <{np_maxversion}\"\n"
     ]
    }
   ],
   "source": [
    "import os\n",
    "import unittest\n",
    "import numpy as np\n",
    "import tensorflow as tf\n",
    "\n",
    "from sampling import Sampler\n",
    "from sklearn.ensemble import RandomForestClassifier"
   ]
  },
  {
   "cell_type": "code",
   "execution_count": 59,
   "id": "b96a0556",
   "metadata": {},
   "outputs": [
    {
     "ename": "FileNotFoundError",
     "evalue": "[Errno 2] No such file or directory: 'test.csv'",
     "output_type": "error",
     "traceback": [
      "\u001b[0;31m---------------------------------------------------------------------------\u001b[0m",
      "\u001b[0;31mFileNotFoundError\u001b[0m                         Traceback (most recent call last)",
      "Input \u001b[0;32mIn [59]\u001b[0m, in \u001b[0;36m<cell line: 1>\u001b[0;34m()\u001b[0m\n\u001b[0;32m----> 1\u001b[0m fp \u001b[38;5;241m=\u001b[39m \u001b[38;5;28;43mopen\u001b[39;49m\u001b[43m(\u001b[49m\u001b[43mos\u001b[49m\u001b[38;5;241;43m.\u001b[39;49m\u001b[43mpath\u001b[49m\u001b[38;5;241;43m.\u001b[39;49m\u001b[43mjoin\u001b[49m\u001b[43m(\u001b[49m\u001b[38;5;124;43m'\u001b[39;49m\u001b[38;5;124;43mtest.csv\u001b[39;49m\u001b[38;5;124;43m'\u001b[39;49m\u001b[43m)\u001b[49m\u001b[43m,\u001b[49m\u001b[43m \u001b[49m\u001b[38;5;124;43m'\u001b[39;49m\u001b[38;5;124;43mrb\u001b[39;49m\u001b[38;5;124;43m'\u001b[39;49m\u001b[43m)\u001b[49m\n\u001b[1;32m      2\u001b[0m \u001b[38;5;28mprint\u001b[39m(fp\u001b[38;5;241m.\u001b[39mname)\n\u001b[1;32m      3\u001b[0m fp\u001b[38;5;241m.\u001b[39mclose()\n",
      "\u001b[0;31mFileNotFoundError\u001b[0m: [Errno 2] No such file or directory: 'test.csv'"
     ]
    }
   ],
   "source": [
    "fp = open(os.path.join('test.csv'), 'rb')\n",
    "print(fp.name)\n",
    "fp.close()"
   ]
  },
  {
   "cell_type": "code",
   "execution_count": 70,
   "id": "707a6b2c",
   "metadata": {},
   "outputs": [
    {
     "ename": "FileNotFoundError",
     "evalue": "[Errno 2] No such file or directory: 'test_writing.csv'",
     "output_type": "error",
     "traceback": [
      "\u001b[0;31m---------------------------------------------------------------------------\u001b[0m",
      "\u001b[0;31mFileNotFoundError\u001b[0m                         Traceback (most recent call last)",
      "Input \u001b[0;32mIn [70]\u001b[0m, in \u001b[0;36m<cell line: 2>\u001b[0;34m()\u001b[0m\n\u001b[1;32m      1\u001b[0m file_name \u001b[38;5;241m=\u001b[39m \u001b[38;5;124m'\u001b[39m\u001b[38;5;124mtest_writing.csv\u001b[39m\u001b[38;5;124m'\u001b[39m\n\u001b[0;32m----> 2\u001b[0m fp \u001b[38;5;241m=\u001b[39m \u001b[38;5;28;43mopen\u001b[39;49m\u001b[43m(\u001b[49m\u001b[43mos\u001b[49m\u001b[38;5;241;43m.\u001b[39;49m\u001b[43mpath\u001b[49m\u001b[38;5;241;43m.\u001b[39;49m\u001b[43mjoin\u001b[49m\u001b[43m(\u001b[49m\u001b[43mfile_name\u001b[49m\u001b[43m)\u001b[49m\u001b[43m,\u001b[49m\u001b[43m \u001b[49m\u001b[38;5;124;43m'\u001b[39;49m\u001b[38;5;124;43mrb\u001b[39;49m\u001b[38;5;124;43m'\u001b[39;49m\u001b[43m)\u001b[49m\n\u001b[1;32m      3\u001b[0m \u001b[38;5;28mprint\u001b[39m(fp\u001b[38;5;241m.\u001b[39mname)\n\u001b[1;32m      4\u001b[0m fp\u001b[38;5;241m.\u001b[39mclose()\n",
      "\u001b[0;31mFileNotFoundError\u001b[0m: [Errno 2] No such file or directory: 'test_writing.csv'"
     ]
    }
   ],
   "source": [
    "file_name = 'test_writing.csv'\n",
    "fp = open(os.path.join(file_name), 'rb')\n",
    "print(fp.name)\n",
    "fp.close()\n",
    "os.remove(os.path.join(file_name))"
   ]
  },
  {
   "cell_type": "code",
   "execution_count": 68,
   "id": "981d630d",
   "metadata": {},
   "outputs": [
    {
     "name": "stderr",
     "output_type": "stream",
     "text": [
      "ERROR:root:No such file: 'None'. Define 'file_path'.\n",
      "WARNING:root:No such file: 'test_writing.csv'. File created!\n"
     ]
    },
    {
     "data": {
      "text/plain": [
       "14"
      ]
     },
     "execution_count": 68,
     "metadata": {},
     "output_type": "execute_result"
    }
   ],
   "source": [
    "sample = Sampler(from_file = True)\n",
    "sample.automatic_fill = True\n",
    "sample.file_path = 'test_writing.csv'\n",
    "test_return = sample.open_file_for_read()\n",
    "test_return.write(b'writting test!')"
   ]
  },
  {
   "cell_type": "code",
   "execution_count": 63,
   "id": "3539932a",
   "metadata": {},
   "outputs": [],
   "source": [
    "sample.close_file()\n"
   ]
  },
  {
   "cell_type": "code",
   "execution_count": 52,
   "id": "095da42b",
   "metadata": {},
   "outputs": [
    {
     "ename": "SyntaxError",
     "evalue": "invalid syntax. Perhaps you forgot a comma? (1646488121.py, line 2)",
     "output_type": "error",
     "traceback": [
      "\u001b[0;36m  Input \u001b[0;32mIn [52]\u001b[0;36m\u001b[0m\n\u001b[0;31m    [ 0.22  0.15]\u001b[0m\n\u001b[0m      ^\u001b[0m\n\u001b[0;31mSyntaxError\u001b[0m\u001b[0;31m:\u001b[0m invalid syntax. Perhaps you forgot a comma?\n"
     ]
    }
   ],
   "source": [
    "X_file , y_file =[[ 0.32 -0.25]\n",
    " [ 0.22  0.15]\n",
    " [ 0.62 -0.45]\n",
    " [ 0.72 -0.35]\n",
    " [ 0.82 -0.15]] [1. 0. 1. 0. 1.]\n",
    "\n",
    "print(X_file, y_file)"
   ]
  },
  {
   "cell_type": "code",
   "execution_count": 53,
   "id": "e1f2ff19",
   "metadata": {},
   "outputs": [
    {
     "name": "stdout",
     "output_type": "stream",
     "text": [
      "[ 0.32 -0.25]\n"
     ]
    }
   ],
   "source": [
    "sample = Sampler(from_file = True,file_path = 'test_data.csv')\n",
    "\n",
    "\n",
    "n=5\n",
    "X,y = sample.read_samples_from_file(original, num_samples=n)\n",
    "print(X[0])"
   ]
  },
  {
   "cell_type": "code",
   "execution_count": 47,
   "id": "04b35d97",
   "metadata": {},
   "outputs": [
    {
     "name": "stdout",
     "output_type": "stream",
     "text": [
      "[[ 3.01418669 -2.91413489]] [1.]\n"
     ]
    }
   ],
   "source": [
    "original = RandomForestClassifier(n_estimators=1, criterion='gini', n_jobs=1, max_depth=None, random_state=42)\n",
    "original.fit([[0.9,0.35]], [1.0])\n",
    "sample = Sampler()\n",
    "X, y = sample.generate_samples(original, num_samples=1)\n",
    "print(X, y)"
   ]
  },
  {
   "cell_type": "code",
   "execution_count": 74,
   "id": "9f1d74aa",
   "metadata": {},
   "outputs": [],
   "source": [
    "from sampling import Sampler\n",
    "from models import FeedForwardModel\n",
    "from models import params_to_vec\n",
    "from utils import define_loss"
   ]
  },
  {
   "cell_type": "code",
   "execution_count": 89,
   "id": "094d7ee3",
   "metadata": {},
   "outputs": [],
   "source": [
    "input_dim = 10\n",
    "output_dim = 2\n",
    "layers = [20,30]\n",
    "model = FeedForwardModel(input_dim=input_dim, hidden_layers=layers, output_dim=output_dim)\n",
    "model.build(input_shape=(layers[0],input_dim))\n",
    "opt = tf.keras.optimizers.Adam(learning_rate=0.0005)\n",
    "loss = define_loss(output_dim, loss_name = 'UncertaintyError')"
   ]
  },
  {
   "cell_type": "code",
   "execution_count": 90,
   "id": "476a5528",
   "metadata": {},
   "outputs": [
    {
     "name": "stdout",
     "output_type": "stream",
     "text": [
      "[[ 0.57428262 -1.50312582 -2.63346081  1.28934679  0.62779216 -0.86525721\n",
      "   0.47790183  1.12428168 -0.85641092 -0.40696059]\n",
      " [-1.16373117 -0.7857661  -1.89618892  1.00580196 -1.29301341  0.07849533\n",
      "   2.73295761  1.82852828 -0.93796349 -0.20985398]]\n"
     ]
    }
   ],
   "source": [
    "x = np.random.multivariate_normal(np.zeros((input_dim,)),\n",
    "                                                  np.eye(input_dim,input_dim)*1.5,\n",
    "                                                  size=2)\n",
    "print(x)\n",
    "y_pred = model(x)"
   ]
  },
  {
   "cell_type": "code",
   "execution_count": 91,
   "id": "eec3770b",
   "metadata": {},
   "outputs": [],
   "source": [
    "x = tf.random.normal((100, input_dim))\n",
    "y = model(x)"
   ]
  }
 ],
 "metadata": {
  "kernelspec": {
   "display_name": "Python [conda env:.conda-hw_tf2.8]",
   "language": "python",
   "name": "conda-env-.conda-hw_tf2.8-py"
  },
  "language_info": {
   "codemirror_mode": {
    "name": "ipython",
    "version": 3
   },
   "file_extension": ".py",
   "mimetype": "text/x-python",
   "name": "python",
   "nbconvert_exporter": "python",
   "pygments_lexer": "ipython3",
   "version": "3.10.4"
  }
 },
 "nbformat": 4,
 "nbformat_minor": 5
}
